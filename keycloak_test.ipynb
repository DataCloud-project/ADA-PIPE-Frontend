{
 "cells": [
  {
   "cell_type": "code",
   "execution_count": null,
   "metadata": {},
   "outputs": [],
   "source": [
    "from keycloak import KeycloakOpenID\n",
    "from keycloak.exceptions import KeycloakAuthenticationError\n",
    "import api_config"
   ]
  },
  {
   "cell_type": "markdown",
   "metadata": {},
   "source": [
    "### Init KeyCloak OpenID\n",
    "\n",
    "Initializes the Keycloak OpenID instance that is used to communicate with the Keycloak server.\n",
    "\n",
    "For this to work, a copy of a `api_config` file with the necessary constants is required."
   ]
  },
  {
   "cell_type": "code",
   "execution_count": null,
   "metadata": {},
   "outputs": [],
   "source": [
    "keycloak_open_id = KeycloakOpenID(\n",
    "    server_url=api_config.KEYCLOAK_SERVER_URL,\n",
    "    client_id=api_config.KEYCLOAK_CLIENT_ID,\n",
    "    realm_name=api_config.KEYCLOAK_REALM_NAME,\n",
    "    client_secret_key=api_config.KEYCLOAK_SECRET_KEY\n",
    ")"
   ]
  },
  {
   "cell_type": "markdown",
   "metadata": {},
   "source": [
    "### Retrieve Application Token from KeyCloak"
   ]
  },
  {
   "cell_type": "code",
   "execution_count": null,
   "metadata": {},
   "outputs": [],
   "source": [
    "keycloak_token = keycloak_open_id.token(api_config.KEYCLOAK_TOKEN_USERNAME, api_config.KEYCLOAK_TOKEN_PASSWORD)\n",
    "\n",
    "keycloak_token"
   ]
  },
  {
   "cell_type": "markdown",
   "metadata": {},
   "source": [
    "#### Store the Access Token since we only use this one here"
   ]
  },
  {
   "cell_type": "code",
   "execution_count": null,
   "metadata": {},
   "outputs": [],
   "source": [
    "access_token: str = keycloak_token['access_token']"
   ]
  },
  {
   "cell_type": "markdown",
   "metadata": {},
   "source": [
    "### Verify the Access Token\n",
    "\n",
    "If the access token could successfully be verified, we get a 201 OK response, plus the information about the user.\n",
    "\n",
    "If the access token could not be verified, the Keycloak server will return a 401 `KeycloakAuthentication` error. *This can be tested with the second `userinfo` cell (assuming the access token is valid the first time).*"
   ]
  },
  {
   "cell_type": "code",
   "execution_count": null,
   "metadata": {},
   "outputs": [],
   "source": [
    "user_info = keycloak_open_id.userinfo(access_token)\n",
    "\n",
    "user_info"
   ]
  },
  {
   "cell_type": "markdown",
   "metadata": {},
   "source": [
    "#### The next code cell is expected to throw an exception\n",
    "\n",
    "*Note: a `KeycloakAuthenticationError` is expected to be thrown*."
   ]
  },
  {
   "cell_type": "code",
   "execution_count": null,
   "metadata": {},
   "outputs": [],
   "source": [
    "try:\n",
    "    keycloak_open_id.userinfo(access_token[:-1])\n",
    "except KeycloakAuthenticationError as err:\n",
    "    print(err)\n",
    "    "
   ]
  },
  {
   "cell_type": "markdown",
   "metadata": {},
   "source": [
    "### Same as `userinfo()` but returns more information"
   ]
  },
  {
   "cell_type": "code",
   "execution_count": null,
   "metadata": {},
   "outputs": [],
   "source": [
    "introspect = keycloak_open_id.introspect(access_token)\n",
    "\n",
    "introspect"
   ]
  }
 ],
 "metadata": {
  "interpreter": {
   "hash": "85dae35acb68631356537a0b6725b784d3010081eefc3df3095f3bef9ec888f3"
  },
  "kernelspec": {
   "display_name": "Python 3.9.7 ('scheduler')",
   "language": "python",
   "name": "python3"
  },
  "language_info": {
   "codemirror_mode": {
    "name": "ipython",
    "version": 3
   },
   "file_extension": ".py",
   "mimetype": "text/x-python",
   "name": "python",
   "nbconvert_exporter": "python",
   "pygments_lexer": "ipython3",
   "version": "3.9.7"
  },
  "orig_nbformat": 4
 },
 "nbformat": 4,
 "nbformat_minor": 2
}
